{
 "cells": [
  {
   "cell_type": "code",
   "execution_count": 94,
   "id": "f4a2c602",
   "metadata": {},
   "outputs": [],
   "source": [
    "import torch\n",
    "import numpy as np"
   ]
  },
  {
   "cell_type": "code",
   "execution_count": 2,
   "id": "f1d34f3a",
   "metadata": {},
   "outputs": [],
   "source": [
    "#x=torch.empty(1)"
   ]
  },
  {
   "cell_type": "code",
   "execution_count": 20,
   "id": "1827f522",
   "metadata": {},
   "outputs": [],
   "source": [
    "#x"
   ]
  },
  {
   "cell_type": "code",
   "execution_count": 8,
   "id": "d8160d9f",
   "metadata": {},
   "outputs": [],
   "source": [
    "#x=torch.empty(3)"
   ]
  },
  {
   "cell_type": "code",
   "execution_count": 21,
   "id": "ab60f04d",
   "metadata": {},
   "outputs": [],
   "source": [
    "#x"
   ]
  },
  {
   "cell_type": "code",
   "execution_count": 10,
   "id": "c40324d8",
   "metadata": {},
   "outputs": [],
   "source": [
    "#x=torch.empty(2,3)"
   ]
  },
  {
   "cell_type": "code",
   "execution_count": 17,
   "id": "44ca812a",
   "metadata": {},
   "outputs": [],
   "source": [
    "#x"
   ]
  },
  {
   "cell_type": "code",
   "execution_count": 32,
   "id": "ba646810",
   "metadata": {},
   "outputs": [],
   "source": [
    "#x=torch.empty(2, 2, 3)"
   ]
  },
  {
   "cell_type": "code",
   "execution_count": 33,
   "id": "5beb522c",
   "metadata": {},
   "outputs": [
    {
     "data": {
      "text/plain": [
       "tensor([[[0., 0., 0.],\n",
       "         [0., 0., 0.]],\n",
       "\n",
       "        [[0., 0., 0.],\n",
       "         [0., 0., 0.]]])"
      ]
     },
     "execution_count": 33,
     "metadata": {},
     "output_type": "execute_result"
    }
   ],
   "source": [
    "#x"
   ]
  },
  {
   "cell_type": "code",
   "execution_count": 34,
   "id": "bbdfcd57",
   "metadata": {},
   "outputs": [],
   "source": [
    "#x=torch.empty(2, 2, 2, 3)"
   ]
  },
  {
   "cell_type": "code",
   "execution_count": 35,
   "id": "a7183980",
   "metadata": {},
   "outputs": [
    {
     "data": {
      "text/plain": [
       "tensor([[[[1.3540e+28, 6.8523e-43, 1.5273e+28],\n",
       "          [6.8523e-43, 1.3540e+28, 6.8523e-43]],\n",
       "\n",
       "         [[1.5273e+28, 6.8523e-43, 1.3540e+28],\n",
       "          [6.8523e-43, 1.3559e+28, 6.8523e-43]]],\n",
       "\n",
       "\n",
       "        [[[1.4304e+28, 6.8523e-43, 1.3559e+28],\n",
       "          [6.8523e-43, 1.8602e+37, 6.8523e-43]],\n",
       "\n",
       "         [[1.8602e+37, 6.8523e-43, 1.4638e+28],\n",
       "          [6.8523e-43, 1.5272e+28, 6.8523e-43]]]])"
      ]
     },
     "execution_count": 35,
     "metadata": {},
     "output_type": "execute_result"
    }
   ],
   "source": [
    "#x"
   ]
  },
  {
   "cell_type": "code",
   "execution_count": 36,
   "id": "6cfc4234",
   "metadata": {},
   "outputs": [],
   "source": [
    "#x=torch.rand(2, 2)"
   ]
  },
  {
   "cell_type": "code",
   "execution_count": 37,
   "id": "5d381997",
   "metadata": {},
   "outputs": [
    {
     "data": {
      "text/plain": [
       "tensor([[0.1055, 0.5556],\n",
       "        [0.3851, 0.9272]])"
      ]
     },
     "execution_count": 37,
     "metadata": {},
     "output_type": "execute_result"
    }
   ],
   "source": [
    "#x"
   ]
  },
  {
   "cell_type": "code",
   "execution_count": 38,
   "id": "617675eb",
   "metadata": {},
   "outputs": [],
   "source": [
    "#x=torch.zeros(2, 2)"
   ]
  },
  {
   "cell_type": "code",
   "execution_count": 39,
   "id": "098e9c3e",
   "metadata": {},
   "outputs": [
    {
     "data": {
      "text/plain": [
       "tensor([[0., 0.],\n",
       "        [0., 0.]])"
      ]
     },
     "execution_count": 39,
     "metadata": {},
     "output_type": "execute_result"
    }
   ],
   "source": [
    "#x"
   ]
  },
  {
   "cell_type": "code",
   "execution_count": 40,
   "id": "5044958b",
   "metadata": {},
   "outputs": [],
   "source": [
    "#x=torch.ones(2, 2)"
   ]
  },
  {
   "cell_type": "code",
   "execution_count": 41,
   "id": "07657285",
   "metadata": {},
   "outputs": [
    {
     "data": {
      "text/plain": [
       "tensor([[1., 1.],\n",
       "        [1., 1.]])"
      ]
     },
     "execution_count": 41,
     "metadata": {},
     "output_type": "execute_result"
    }
   ],
   "source": [
    "#x"
   ]
  },
  {
   "cell_type": "code",
   "execution_count": 42,
   "id": "073516b0",
   "metadata": {},
   "outputs": [
    {
     "data": {
      "text/plain": [
       "torch.float32"
      ]
     },
     "execution_count": 42,
     "metadata": {},
     "output_type": "execute_result"
    }
   ],
   "source": [
    "#x.dtype"
   ]
  },
  {
   "cell_type": "code",
   "execution_count": 43,
   "id": "59b42b73",
   "metadata": {},
   "outputs": [],
   "source": [
    "#x=torch.ones(2, 2,dtype=torch.float16)"
   ]
  },
  {
   "cell_type": "code",
   "execution_count": 45,
   "id": "cdd8039f",
   "metadata": {},
   "outputs": [
    {
     "data": {
      "text/plain": [
       "torch.Size([2, 2])"
      ]
     },
     "execution_count": 45,
     "metadata": {},
     "output_type": "execute_result"
    }
   ],
   "source": [
    "#x.size()"
   ]
  },
  {
   "cell_type": "code",
   "execution_count": 46,
   "id": "3ee74730",
   "metadata": {},
   "outputs": [],
   "source": [
    "#x=torch.tensor([2.5,0.1])"
   ]
  },
  {
   "cell_type": "code",
   "execution_count": 47,
   "id": "643aee78",
   "metadata": {},
   "outputs": [
    {
     "data": {
      "text/plain": [
       "tensor([2.5000, 0.1000])"
      ]
     },
     "execution_count": 47,
     "metadata": {},
     "output_type": "execute_result"
    }
   ],
   "source": [
    "#x"
   ]
  },
  {
   "cell_type": "code",
   "execution_count": 48,
   "id": "83884b0d",
   "metadata": {},
   "outputs": [],
   "source": [
    "#x=torch.rand(2, 2)"
   ]
  },
  {
   "cell_type": "code",
   "execution_count": 49,
   "id": "0b1e8570",
   "metadata": {},
   "outputs": [],
   "source": [
    "#y=torch.rand(2, 2)"
   ]
  },
  {
   "cell_type": "code",
   "execution_count": 50,
   "id": "f4777278",
   "metadata": {},
   "outputs": [
    {
     "data": {
      "text/plain": [
       "tensor([[0.8744, 0.7041],\n",
       "        [0.3786, 0.4668]])"
      ]
     },
     "execution_count": 50,
     "metadata": {},
     "output_type": "execute_result"
    }
   ],
   "source": [
    "#x"
   ]
  },
  {
   "cell_type": "code",
   "execution_count": 51,
   "id": "fcac814e",
   "metadata": {},
   "outputs": [
    {
     "data": {
      "text/plain": [
       "tensor([[0.6752, 0.2965],\n",
       "        [0.1286, 0.6637]])"
      ]
     },
     "execution_count": 51,
     "metadata": {},
     "output_type": "execute_result"
    }
   ],
   "source": [
    "#y"
   ]
  },
  {
   "cell_type": "code",
   "execution_count": 52,
   "id": "c2a34bec",
   "metadata": {},
   "outputs": [],
   "source": [
    "#z=x+y"
   ]
  },
  {
   "cell_type": "code",
   "execution_count": 53,
   "id": "1da4085a",
   "metadata": {},
   "outputs": [
    {
     "data": {
      "text/plain": [
       "tensor([[1.5496, 1.0006],\n",
       "        [0.5072, 1.1305]])"
      ]
     },
     "execution_count": 53,
     "metadata": {},
     "output_type": "execute_result"
    }
   ],
   "source": [
    "#z"
   ]
  },
  {
   "cell_type": "code",
   "execution_count": 54,
   "id": "45f753e9",
   "metadata": {},
   "outputs": [],
   "source": [
    "#x=torch.rand(2, 2)\n",
    "#y=torch.rand(2, 2)"
   ]
  },
  {
   "cell_type": "code",
   "execution_count": 55,
   "id": "76e451d0",
   "metadata": {},
   "outputs": [
    {
     "data": {
      "text/plain": [
       "tensor([[0.2029, 0.9884],\n",
       "        [0.3865, 0.4573]])"
      ]
     },
     "execution_count": 55,
     "metadata": {},
     "output_type": "execute_result"
    }
   ],
   "source": [
    "#x"
   ]
  },
  {
   "cell_type": "code",
   "execution_count": 56,
   "id": "759add94",
   "metadata": {},
   "outputs": [
    {
     "data": {
      "text/plain": [
       "tensor([[0.6978, 0.5462],\n",
       "        [0.6591, 0.6291]])"
      ]
     },
     "execution_count": 56,
     "metadata": {},
     "output_type": "execute_result"
    }
   ],
   "source": [
    "#y"
   ]
  },
  {
   "cell_type": "code",
   "execution_count": 57,
   "id": "d3f1b714",
   "metadata": {},
   "outputs": [],
   "source": [
    "#z=x+y"
   ]
  },
  {
   "cell_type": "code",
   "execution_count": 58,
   "id": "61dff1a7",
   "metadata": {},
   "outputs": [],
   "source": [
    "#z=torch.add(x,y)"
   ]
  },
  {
   "cell_type": "code",
   "execution_count": 59,
   "id": "15ce8eee",
   "metadata": {},
   "outputs": [
    {
     "data": {
      "text/plain": [
       "tensor([[0.9006, 1.5346],\n",
       "        [1.0456, 1.0864]])"
      ]
     },
     "execution_count": 59,
     "metadata": {},
     "output_type": "execute_result"
    }
   ],
   "source": [
    "#z"
   ]
  },
  {
   "cell_type": "code",
   "execution_count": 60,
   "id": "4fcdd062",
   "metadata": {},
   "outputs": [],
   "source": [
    "#x=torch.rand(2, 2)\n",
    "#y=torch.rand(2, 2)"
   ]
  },
  {
   "cell_type": "code",
   "execution_count": 61,
   "id": "7298ee80",
   "metadata": {},
   "outputs": [
    {
     "data": {
      "text/plain": [
       "tensor([[1.2432, 0.6435],\n",
       "        [1.5815, 0.6281]])"
      ]
     },
     "execution_count": 61,
     "metadata": {},
     "output_type": "execute_result"
    }
   ],
   "source": [
    "#y.add_(x)"
   ]
  },
  {
   "cell_type": "code",
   "execution_count": 62,
   "id": "8fd78286",
   "metadata": {},
   "outputs": [],
   "source": [
    "#x=torch.rand(2, 2)\n",
    "#y=torch.rand(2, 2)"
   ]
  },
  {
   "cell_type": "code",
   "execution_count": 63,
   "id": "3e111397",
   "metadata": {},
   "outputs": [],
   "source": [
    "#z=x-y"
   ]
  },
  {
   "cell_type": "code",
   "execution_count": 64,
   "id": "5cc874cc",
   "metadata": {},
   "outputs": [],
   "source": [
    "#z=torch.sub(x,y)"
   ]
  },
  {
   "cell_type": "code",
   "execution_count": 65,
   "id": "0998483c",
   "metadata": {},
   "outputs": [
    {
     "data": {
      "text/plain": [
       "tensor([[-0.5393,  0.1898],\n",
       "        [ 0.2070, -0.3393]])"
      ]
     },
     "execution_count": 65,
     "metadata": {},
     "output_type": "execute_result"
    }
   ],
   "source": [
    "#z"
   ]
  },
  {
   "cell_type": "code",
   "execution_count": 66,
   "id": "f5a299f8",
   "metadata": {},
   "outputs": [],
   "source": [
    "#x=torch.rand(2, 2)\n",
    "#y=torch.rand(2, 2)"
   ]
  },
  {
   "cell_type": "code",
   "execution_count": 67,
   "id": "7854e204",
   "metadata": {},
   "outputs": [],
   "source": [
    "#z=x*y"
   ]
  },
  {
   "cell_type": "code",
   "execution_count": 68,
   "id": "df0d33fa",
   "metadata": {},
   "outputs": [],
   "source": [
    "#z=torch.mul(x,y)"
   ]
  },
  {
   "cell_type": "code",
   "execution_count": 69,
   "id": "07cfca14",
   "metadata": {},
   "outputs": [
    {
     "data": {
      "text/plain": [
       "tensor([[0.0083, 0.8238],\n",
       "        [0.2706, 0.1289]])"
      ]
     },
     "execution_count": 69,
     "metadata": {},
     "output_type": "execute_result"
    }
   ],
   "source": [
    "#z"
   ]
  },
  {
   "cell_type": "code",
   "execution_count": 70,
   "id": "06b7dbfd",
   "metadata": {},
   "outputs": [],
   "source": [
    "#x=torch.rand(5, 3)"
   ]
  },
  {
   "cell_type": "code",
   "execution_count": 71,
   "id": "73fed95d",
   "metadata": {},
   "outputs": [
    {
     "data": {
      "text/plain": [
       "tensor([[0.0045, 0.9861, 0.5811],\n",
       "        [0.4425, 0.4724, 0.2732],\n",
       "        [0.8262, 0.4020, 0.4306],\n",
       "        [0.2180, 0.2252, 0.1709],\n",
       "        [0.7968, 0.5875, 0.4106]])"
      ]
     },
     "execution_count": 71,
     "metadata": {},
     "output_type": "execute_result"
    }
   ],
   "source": [
    "#x"
   ]
  },
  {
   "cell_type": "code",
   "execution_count": 72,
   "id": "997e750f",
   "metadata": {},
   "outputs": [],
   "source": [
    "#x=torch.rand(5, 3)"
   ]
  },
  {
   "cell_type": "code",
   "execution_count": 74,
   "id": "67851943",
   "metadata": {},
   "outputs": [
    {
     "data": {
      "text/plain": [
       "tensor([[0.0805, 0.3028, 0.1901],\n",
       "        [0.6072, 0.3579, 0.3208],\n",
       "        [0.0171, 0.3379, 0.4857],\n",
       "        [0.8093, 0.0123, 0.3911],\n",
       "        [0.0686, 0.8011, 0.3661]])"
      ]
     },
     "execution_count": 74,
     "metadata": {},
     "output_type": "execute_result"
    }
   ],
   "source": [
    "#x"
   ]
  },
  {
   "cell_type": "code",
   "execution_count": 73,
   "id": "c783fd9b",
   "metadata": {},
   "outputs": [
    {
     "data": {
      "text/plain": [
       "tensor([0.0805, 0.6072, 0.0171, 0.8093, 0.0686])"
      ]
     },
     "execution_count": 73,
     "metadata": {},
     "output_type": "execute_result"
    }
   ],
   "source": [
    "#x[:,0]"
   ]
  },
  {
   "cell_type": "code",
   "execution_count": 75,
   "id": "df579f72",
   "metadata": {},
   "outputs": [],
   "source": [
    "#x=torch.rand(5, 3)"
   ]
  },
  {
   "cell_type": "code",
   "execution_count": 76,
   "id": "37176e06",
   "metadata": {},
   "outputs": [
    {
     "data": {
      "text/plain": [
       "tensor([[0.4740, 0.0791, 0.9570],\n",
       "        [0.9054, 0.8864, 0.0925],\n",
       "        [0.6521, 0.3277, 0.8276],\n",
       "        [0.6617, 0.3055, 0.1899],\n",
       "        [0.4359, 0.6497, 0.9754]])"
      ]
     },
     "execution_count": 76,
     "metadata": {},
     "output_type": "execute_result"
    }
   ],
   "source": [
    "#x"
   ]
  },
  {
   "cell_type": "code",
   "execution_count": 77,
   "id": "7f96260e",
   "metadata": {},
   "outputs": [
    {
     "data": {
      "text/plain": [
       "tensor([0.9054, 0.8864, 0.0925])"
      ]
     },
     "execution_count": 77,
     "metadata": {},
     "output_type": "execute_result"
    }
   ],
   "source": [
    "#x[1,:]"
   ]
  },
  {
   "cell_type": "code",
   "execution_count": 78,
   "id": "c681d1d4",
   "metadata": {},
   "outputs": [
    {
     "data": {
      "text/plain": [
       "tensor(0.8864)"
      ]
     },
     "execution_count": 78,
     "metadata": {},
     "output_type": "execute_result"
    }
   ],
   "source": [
    "#x[1,1]"
   ]
  },
  {
   "cell_type": "code",
   "execution_count": 79,
   "id": "43120888",
   "metadata": {},
   "outputs": [
    {
     "data": {
      "text/plain": [
       "0.886437177658081"
      ]
     },
     "execution_count": 79,
     "metadata": {},
     "output_type": "execute_result"
    }
   ],
   "source": [
    "#x[1,1].item()"
   ]
  },
  {
   "cell_type": "code",
   "execution_count": 89,
   "id": "3ff7ac5f",
   "metadata": {},
   "outputs": [],
   "source": [
    "x=torch.rand(4, 4)"
   ]
  },
  {
   "cell_type": "code",
   "execution_count": 90,
   "id": "dbdebc42",
   "metadata": {},
   "outputs": [
    {
     "data": {
      "text/plain": [
       "tensor([[0.7694, 0.4632, 0.9593, 0.1058],\n",
       "        [0.9139, 0.2957, 0.6260, 0.6255],\n",
       "        [0.3720, 0.3392, 0.4365, 0.4678],\n",
       "        [0.7659, 0.3883, 0.5694, 0.0056]])"
      ]
     },
     "execution_count": 90,
     "metadata": {},
     "output_type": "execute_result"
    }
   ],
   "source": [
    "x"
   ]
  },
  {
   "cell_type": "code",
   "execution_count": 85,
   "id": "432536d6",
   "metadata": {},
   "outputs": [],
   "source": [
    "#y=x.view(16)"
   ]
  },
  {
   "cell_type": "code",
   "execution_count": 86,
   "id": "77831c82",
   "metadata": {},
   "outputs": [
    {
     "data": {
      "text/plain": [
       "tensor([0.9357, 0.7414, 0.2501, 0.7354, 0.1493, 0.2424, 0.3127, 0.2249, 0.5796,\n",
       "        0.6371, 0.5556, 0.2329, 0.7397, 0.9336, 0.6828, 0.0478])"
      ]
     },
     "execution_count": 86,
     "metadata": {},
     "output_type": "execute_result"
    }
   ],
   "source": [
    "#y"
   ]
  },
  {
   "cell_type": "code",
   "execution_count": 91,
   "id": "d6ee2a99",
   "metadata": {},
   "outputs": [],
   "source": [
    "#y=x.view(-1,8)"
   ]
  },
  {
   "cell_type": "code",
   "execution_count": 92,
   "id": "a7fef725",
   "metadata": {},
   "outputs": [
    {
     "data": {
      "text/plain": [
       "tensor([[0.7694, 0.4632, 0.9593, 0.1058, 0.9139, 0.2957, 0.6260, 0.6255],\n",
       "        [0.3720, 0.3392, 0.4365, 0.4678, 0.7659, 0.3883, 0.5694, 0.0056]])"
      ]
     },
     "execution_count": 92,
     "metadata": {},
     "output_type": "execute_result"
    }
   ],
   "source": [
    "#y"
   ]
  },
  {
   "cell_type": "code",
   "execution_count": 93,
   "id": "1b61f85d",
   "metadata": {},
   "outputs": [
    {
     "data": {
      "text/plain": [
       "torch.Size([2, 8])"
      ]
     },
     "execution_count": 93,
     "metadata": {},
     "output_type": "execute_result"
    }
   ],
   "source": [
    "#y.size()"
   ]
  },
  {
   "cell_type": "code",
   "execution_count": 95,
   "id": "5a5e5c73",
   "metadata": {},
   "outputs": [],
   "source": [
    "#a=torch.ones(5)"
   ]
  },
  {
   "cell_type": "code",
   "execution_count": 96,
   "id": "4733709e",
   "metadata": {},
   "outputs": [
    {
     "data": {
      "text/plain": [
       "tensor([1., 1., 1., 1., 1.])"
      ]
     },
     "execution_count": 96,
     "metadata": {},
     "output_type": "execute_result"
    }
   ],
   "source": [
    "#a"
   ]
  },
  {
   "cell_type": "code",
   "execution_count": 97,
   "id": "d5e4e912",
   "metadata": {},
   "outputs": [],
   "source": [
    "#b=a.numpy()"
   ]
  },
  {
   "cell_type": "code",
   "execution_count": 98,
   "id": "ecfe7109",
   "metadata": {},
   "outputs": [
    {
     "data": {
      "text/plain": [
       "array([1., 1., 1., 1., 1.], dtype=float32)"
      ]
     },
     "execution_count": 98,
     "metadata": {},
     "output_type": "execute_result"
    }
   ],
   "source": [
    "#b"
   ]
  },
  {
   "cell_type": "code",
   "execution_count": 99,
   "id": "5f46959b",
   "metadata": {},
   "outputs": [
    {
     "data": {
      "text/plain": [
       "numpy.ndarray"
      ]
     },
     "execution_count": 99,
     "metadata": {},
     "output_type": "execute_result"
    }
   ],
   "source": [
    "#type(b)"
   ]
  },
  {
   "cell_type": "code",
   "execution_count": 100,
   "id": "0700943c",
   "metadata": {},
   "outputs": [
    {
     "data": {
      "text/plain": [
       "tensor([2., 2., 2., 2., 2.])"
      ]
     },
     "execution_count": 100,
     "metadata": {},
     "output_type": "execute_result"
    }
   ],
   "source": [
    "#a.add_(1)"
   ]
  },
  {
   "cell_type": "code",
   "execution_count": 101,
   "id": "8592c844",
   "metadata": {},
   "outputs": [
    {
     "data": {
      "text/plain": [
       "array([2., 2., 2., 2., 2.], dtype=float32)"
      ]
     },
     "execution_count": 101,
     "metadata": {},
     "output_type": "execute_result"
    }
   ],
   "source": [
    "#b"
   ]
  },
  {
   "cell_type": "code",
   "execution_count": 102,
   "id": "a222604f",
   "metadata": {},
   "outputs": [],
   "source": [
    "#a=np.ones(5)"
   ]
  },
  {
   "cell_type": "code",
   "execution_count": 103,
   "id": "d380a83b",
   "metadata": {},
   "outputs": [
    {
     "data": {
      "text/plain": [
       "array([1., 1., 1., 1., 1.])"
      ]
     },
     "execution_count": 103,
     "metadata": {},
     "output_type": "execute_result"
    }
   ],
   "source": [
    "#a"
   ]
  },
  {
   "cell_type": "code",
   "execution_count": 104,
   "id": "8388cec0",
   "metadata": {},
   "outputs": [],
   "source": [
    "#b=torch.from_numpy(a)"
   ]
  },
  {
   "cell_type": "code",
   "execution_count": 105,
   "id": "ad29ad64",
   "metadata": {},
   "outputs": [
    {
     "data": {
      "text/plain": [
       "tensor([1., 1., 1., 1., 1.], dtype=torch.float64)"
      ]
     },
     "execution_count": 105,
     "metadata": {},
     "output_type": "execute_result"
    }
   ],
   "source": [
    "#b"
   ]
  },
  {
   "cell_type": "code",
   "execution_count": 106,
   "id": "4899e1f4",
   "metadata": {},
   "outputs": [],
   "source": [
    "#a+=1"
   ]
  },
  {
   "cell_type": "code",
   "execution_count": 107,
   "id": "f5f34038",
   "metadata": {},
   "outputs": [
    {
     "data": {
      "text/plain": [
       "array([2., 2., 2., 2., 2.])"
      ]
     },
     "execution_count": 107,
     "metadata": {},
     "output_type": "execute_result"
    }
   ],
   "source": [
    "#a"
   ]
  },
  {
   "cell_type": "code",
   "execution_count": 108,
   "id": "8782f10c",
   "metadata": {},
   "outputs": [
    {
     "data": {
      "text/plain": [
       "tensor([2., 2., 2., 2., 2.], dtype=torch.float64)"
      ]
     },
     "execution_count": 108,
     "metadata": {},
     "output_type": "execute_result"
    }
   ],
   "source": [
    "#b"
   ]
  },
  {
   "cell_type": "code",
   "execution_count": 113,
   "id": "f699a678",
   "metadata": {},
   "outputs": [],
   "source": [
    "x=torch.ones(5, requires_grad=True)"
   ]
  },
  {
   "cell_type": "code",
   "execution_count": 114,
   "id": "5db09130",
   "metadata": {},
   "outputs": [
    {
     "data": {
      "text/plain": [
       "tensor([1., 1., 1., 1., 1.], requires_grad=True)"
      ]
     },
     "execution_count": 114,
     "metadata": {},
     "output_type": "execute_result"
    }
   ],
   "source": [
    "x"
   ]
  },
  {
   "cell_type": "code",
   "execution_count": null,
   "id": "3fcfceaf",
   "metadata": {},
   "outputs": [],
   "source": []
  }
 ],
 "metadata": {
  "kernelspec": {
   "display_name": "Python 3 (ipykernel)",
   "language": "python",
   "name": "python3"
  },
  "language_info": {
   "codemirror_mode": {
    "name": "ipython",
    "version": 3
   },
   "file_extension": ".py",
   "mimetype": "text/x-python",
   "name": "python",
   "nbconvert_exporter": "python",
   "pygments_lexer": "ipython3",
   "version": "3.10.5"
  }
 },
 "nbformat": 4,
 "nbformat_minor": 5
}
